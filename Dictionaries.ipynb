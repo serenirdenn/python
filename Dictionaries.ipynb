{
 "cells": [
  {
   "cell_type": "markdown",
   "id": "052d89f1",
   "metadata": {},
   "source": [
    "This is the menu of a close-by restaurant:\n",
    "\n",
    "Menu = {'meal_1':'Spaghetti', 'meal_2':'Fries', 'meal_3':'Hamburger', 'meal_4':'Lasagna'}\n",
    "\n",
    "What is the second meal in the list?"
   ]
  },
  {
   "cell_type": "code",
   "execution_count": 1,
   "id": "f92a7cf8",
   "metadata": {
    "scrolled": true
   },
   "outputs": [
    {
     "data": {
      "text/plain": [
       "'Fries'"
      ]
     },
     "execution_count": 1,
     "metadata": {},
     "output_type": "execute_result"
    }
   ],
   "source": [
    "Menu = {'meal_1':'Spaghetti', 'meal_2':'Fries', 'meal_3':'Hamburger', 'meal_4':'Lasagna'}\n",
    "Menu[\"meal_2\"]"
   ]
  },
  {
   "cell_type": "markdown",
   "id": "b5bd8013",
   "metadata": {},
   "source": [
    "Add a new meal - \"Soup\"."
   ]
  },
  {
   "cell_type": "code",
   "execution_count": 5,
   "id": "395b482e",
   "metadata": {},
   "outputs": [
    {
     "name": "stdout",
     "output_type": "stream",
     "text": [
      "{'meal_1': 'Spaghetti', 'meal_2': 'Fries', 'meal_3': 'Hamburger', 'meal_4': 'Lasagna', 'meal_5': 'Soup'}\n"
     ]
    }
   ],
   "source": [
    "Menu = {'meal_1':'Spaghetti', 'meal_2':'Fries', 'meal_3':'Hamburger', 'meal_4':'Lasagna'}\n",
    "Menu[\"meal_5\"]=\"Soup\"\n",
    "print(Menu)"
   ]
  },
  {
   "cell_type": "markdown",
   "id": "551bbe3a",
   "metadata": {},
   "source": [
    "Replace the Hamburger with a Cheeseburger."
   ]
  },
  {
   "cell_type": "code",
   "execution_count": 6,
   "id": "d119f07b",
   "metadata": {},
   "outputs": [
    {
     "name": "stdout",
     "output_type": "stream",
     "text": [
      "{'meal_1': 'Spaghetti', 'meal_2': 'Fries', 'meal_3': 'Cheesburger', 'meal_4': 'Lasagna'}\n"
     ]
    }
   ],
   "source": [
    "Menu = {'meal_1':'Spaghetti', 'meal_2':'Fries', 'meal_3':'Hamburger', 'meal_4':'Lasagna'}\n",
    "Menu['meal_3']='Cheesburger'\n",
    "print(Menu)"
   ]
  },
  {
   "cell_type": "markdown",
   "id": "f62768b4",
   "metadata": {},
   "source": [
    "Attach the Desserts list in the form of a sixth meal."
   ]
  },
  {
   "cell_type": "code",
   "execution_count": 7,
   "id": "8ec628e7",
   "metadata": {},
   "outputs": [
    {
     "name": "stdout",
     "output_type": "stream",
     "text": [
      "{'meal_1': 'Spaghetti', 'meal_2': 'Fries', 'meal_3': 'Hamburger', 'meal_4': 'Lasagna', 'meal_5': 'Soup', 'meal_6': ['Pancakes', 'Ice-cream', 'Tiramisu']}\n"
     ]
    }
   ],
   "source": [
    "Menu = {'meal_1':'Spaghetti', 'meal_2':'Fries', 'meal_3':'Hamburger', 'meal_4':'Lasagna', 'meal_5':'Soup'}\n",
    "Dessert = ['Pancakes', 'Ice-cream', 'Tiramisu']\n",
    "Menu[\"meal_6\"]= Dessert\n",
    "print(Menu)"
   ]
  },
  {
   "cell_type": "markdown",
   "id": "cf0290fa",
   "metadata": {},
   "source": [
    "Create a new dictionary called Price_list that contains the first five meals of the Menu dictionary as keys and assign the following five values as prices (assumed in dollars): 10, 5, 8, 12, 5. Start by Price_list = {}."
   ]
  },
  {
   "cell_type": "code",
   "execution_count": 8,
   "id": "9120d7ea",
   "metadata": {},
   "outputs": [],
   "source": [
    "Menu = {'meal_1':'Spaghetti', 'meal_2':'Fries', 'meal_3':'Hamburger', 'meal_4':'Lasagna', 'meal_5':'Soup'}\n",
    "Price_list = {'Spaghetti':10, 'Fries':5, 'Cheesburger':8, 'Lasagna':12, 'Soup':5}"
   ]
  },
  {
   "cell_type": "markdown",
   "id": "cbcf095e",
   "metadata": {},
   "source": [
    "Use the print() function and the .get() method to check the price of the Spaghetti in the Price_list."
   ]
  },
  {
   "cell_type": "code",
   "execution_count": 9,
   "id": "d58ce832",
   "metadata": {},
   "outputs": [
    {
     "name": "stdout",
     "output_type": "stream",
     "text": [
      "10\n"
     ]
    }
   ],
   "source": [
    "Price_list = {'Cheesburger': 8, 'Fries': 5, 'Lasagna': 12, 'Soup': 5, 'Spaghetti': 10}\n",
    "print(Price_list.get('Spaghetti'))"
   ]
  }
 ],
 "metadata": {
  "kernelspec": {
   "display_name": "Python 3 (ipykernel)",
   "language": "python",
   "name": "python3"
  },
  "language_info": {
   "codemirror_mode": {
    "name": "ipython",
    "version": 3
   },
   "file_extension": ".py",
   "mimetype": "text/x-python",
   "name": "python",
   "nbconvert_exporter": "python",
   "pygments_lexer": "ipython3",
   "version": "3.10.9"
  }
 },
 "nbformat": 4,
 "nbformat_minor": 5
}
