{
 "cells": [
  {
   "cell_type": "markdown",
   "id": "b086cd3b",
   "metadata": {},
   "source": [
    "Define a function called multiplication_by_2(x) that returns a value equal to its argument multiplied by 2."
   ]
  },
  {
   "cell_type": "code",
   "execution_count": 10,
   "id": "7077d892",
   "metadata": {},
   "outputs": [],
   "source": [
    "def multiplication_by_2(x):\n",
    "    return x*2"
   ]
  },
  {
   "cell_type": "code",
   "execution_count": 11,
   "id": "196e3153",
   "metadata": {},
   "outputs": [
    {
     "data": {
      "text/plain": [
       "2"
      ]
     },
     "execution_count": 11,
     "metadata": {},
     "output_type": "execute_result"
    }
   ],
   "source": [
    "2"
   ]
  },
  {
   "cell_type": "markdown",
   "id": "fe666d95",
   "metadata": {},
   "source": [
    "Define a function called division_by_2(x) that returns a float value equal to its argument divided by 2."
   ]
  },
  {
   "cell_type": "code",
   "execution_count": 12,
   "id": "fd194194",
   "metadata": {},
   "outputs": [],
   "source": [
    "def division_by_2(x):\n",
    "    return x/2"
   ]
  },
  {
   "cell_type": "code",
   "execution_count": 13,
   "id": "eafa1342",
   "metadata": {},
   "outputs": [
    {
     "data": {
      "text/plain": [
       "10"
      ]
     },
     "execution_count": 13,
     "metadata": {},
     "output_type": "execute_result"
    }
   ],
   "source": [
    "10"
   ]
  },
  {
   "cell_type": "markdown",
   "id": "18d0ad75",
   "metadata": {},
   "source": [
    "Define a function called exponentiation_exp_2(x) that states the value of the argument accompanied by the phrase \"Raised to the power of 2:\" and returns a value equal to its argument raised to the power of 2. This time, use a new variable, called result, in the body of the Function. Call the function with some argument to verify it works properly."
   ]
  },
  {
   "cell_type": "code",
   "execution_count": 14,
   "id": "f41287b3",
   "metadata": {},
   "outputs": [
    {
     "name": "stdout",
     "output_type": "stream",
     "text": [
      "Raised to the power of 2:\n"
     ]
    },
    {
     "data": {
      "text/plain": [
       "4"
      ]
     },
     "execution_count": 14,
     "metadata": {},
     "output_type": "execute_result"
    }
   ],
   "source": [
    "def exponentiation_exp_2(x):\n",
    "    result = x**2\n",
    "    print(\"Raised to the power of 2:\")\n",
    "    return result\n",
    "    \n",
    "exponentiation_exp_2(2)"
   ]
  },
  {
   "cell_type": "markdown",
   "id": "ad7de90b",
   "metadata": {},
   "source": [
    "Define a function called plus_five() that adds 5 to the parameter. Then, define another function named m_by_3() that will multiply the newly obtained number by 3. Verify your code was correct by calling the second function with an argument of 5. Was your output equal to 30?"
   ]
  },
  {
   "cell_type": "code",
   "execution_count": 15,
   "id": "57ae1c9e",
   "metadata": {},
   "outputs": [
    {
     "data": {
      "text/plain": [
       "True"
      ]
     },
     "execution_count": 15,
     "metadata": {},
     "output_type": "execute_result"
    }
   ],
   "source": [
    "def plus_five(x):\n",
    "    x= x + 5\n",
    "    return x\n",
    "\n",
    "def m_by_3(x):\n",
    "    x= plus_five(x)*3\n",
    "    return x\n",
    "\n",
    "m_by_3(5)==30"
   ]
  },
  {
   "cell_type": "markdown",
   "id": "0349c77b",
   "metadata": {},
   "source": [
    "Define a function, called compare_the_two(), with two arguments. If the first one is greater than the second one, let it print \"Greater\". If the second one is greater, it should print \"Less\". Let it print \"Equal\" if the two values are the same number."
   ]
  },
  {
   "cell_type": "code",
   "execution_count": 19,
   "id": "3252d0de",
   "metadata": {},
   "outputs": [],
   "source": [
    "def compare_the_two(x,y):\n",
    "    if x > y :\n",
    "        print(\"Greater\")\n",
    "    elif y > x :\n",
    "        print(\"Less\")\n",
    "    else:\n",
    "        print(\"Equal\")\n",
    "        "
   ]
  },
  {
   "cell_type": "markdown",
   "id": "0560a92d",
   "metadata": {},
   "source": [
    "Create a function, called distance_from_zero(), that returns the absolute value of a provided single argument and prints a statement \"Not Possible\" if the argument provided is not a number. Call the function with the values of -10 and \"cat\" to verify it works correctly."
   ]
  },
  {
   "cell_type": "code",
   "execution_count": 23,
   "id": "9cd90ba7",
   "metadata": {},
   "outputs": [
    {
     "name": "stdout",
     "output_type": "stream",
     "text": [
      "Not possible\n"
     ]
    }
   ],
   "source": [
    "def distance_from_zero(x):\n",
    "    if type(x) == str:\n",
    "        print(\"Not possible\")\n",
    "    else:\n",
    "        return abs(x)\n",
    "    \n",
    "distance_from_zero(-10)\n",
    "distance_from_zero(\"cat\")"
   ]
  }
 ],
 "metadata": {
  "kernelspec": {
   "display_name": "Python 3 (ipykernel)",
   "language": "python",
   "name": "python3"
  },
  "language_info": {
   "codemirror_mode": {
    "name": "ipython",
    "version": 3
   },
   "file_extension": ".py",
   "mimetype": "text/x-python",
   "name": "python",
   "nbconvert_exporter": "python",
   "pygments_lexer": "ipython3",
   "version": "3.10.9"
  }
 },
 "nbformat": 4,
 "nbformat_minor": 5
}
