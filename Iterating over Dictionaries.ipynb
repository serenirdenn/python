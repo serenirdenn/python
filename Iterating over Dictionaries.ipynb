{
 "cells": [
  {
   "cell_type": "raw",
   "id": "c51dec44",
   "metadata": {},
   "source": [
    "In this exercise you will use the same dictionaries as the ones we used in the lesson - prices and quantity. This time, don't just calculate all the money Jan spent. Calculate how much she spent on products with a price of 5 dollars or more."
   ]
  },
  {
   "cell_type": "code",
   "execution_count": 1,
   "id": "ffbf66f6",
   "metadata": {},
   "outputs": [
    {
     "name": "stdout",
     "output_type": "stream",
     "text": [
      "50\n"
     ]
    }
   ],
   "source": [
    "prices = {\n",
    "    \"box_of_spaghetti\" : 4,\n",
    "    \"lasagna\"  : 5,\n",
    "    \"hamburger\" : 2\n",
    "   }\n",
    "quantity = {\n",
    "    \"box_of_spaghetti\" : 6,\n",
    "    \"lasagna\"  : 10,\n",
    "    \"hamburger\" : 0\n",
    "    }\n",
    "\n",
    "money_spent = 0\n",
    "for i in quantity:\n",
    "    if prices[i]>=5:\n",
    "        money_spent += prices[i]*quantity[i] \n",
    "    else:\n",
    "        money_spent = money_spent\n",
    "\n",
    "print (money_spent)"
   ]
  },
  {
   "cell_type": "raw",
   "id": "242b1f25",
   "metadata": {},
   "source": [
    "And how much did Jan spent on products that cost less than 5 dollars?"
   ]
  },
  {
   "cell_type": "code",
   "execution_count": 2,
   "id": "d1955f7c",
   "metadata": {},
   "outputs": [
    {
     "name": "stdout",
     "output_type": "stream",
     "text": [
      "24\n"
     ]
    }
   ],
   "source": [
    "prices = {\n",
    "    \"box_of_spaghetti\" : 4,\n",
    "    \"lasagna\"  : 5,\n",
    "    \"hamburger\" : 2\n",
    "   }\n",
    "quantity = {\n",
    "    \"box_of_spaghetti\" : 6,\n",
    "    \"lasagna\"  : 10,\n",
    "    \"hamburger\" : 0\n",
    "    }\n",
    "\n",
    "money_spent = 0\n",
    "for i in quantity:\n",
    "    if prices[i] < 5:\n",
    "        money_spent += prices[i]*quantity[i] \n",
    "    else:\n",
    "        money_spent = money_spent\n",
    "\n",
    "print (money_spent)"
   ]
  }
 ],
 "metadata": {
  "kernelspec": {
   "display_name": "Python 3 (ipykernel)",
   "language": "python",
   "name": "python3"
  },
  "language_info": {
   "codemirror_mode": {
    "name": "ipython",
    "version": 3
   },
   "file_extension": ".py",
   "mimetype": "text/x-python",
   "name": "python",
   "nbconvert_exporter": "python",
   "pygments_lexer": "ipython3",
   "version": "3.10.9"
  }
 },
 "nbformat": 4,
 "nbformat_minor": 5
}
