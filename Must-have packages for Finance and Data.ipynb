{
 "cells": [
  {
   "cell_type": "code",
   "execution_count": 1,
   "id": "8a90956a",
   "metadata": {},
   "outputs": [],
   "source": [
    "import numpy"
   ]
  },
  {
   "cell_type": "markdown",
   "id": "efcac95a",
   "metadata": {},
   "source": [
    " a third-party package allowing us to work with multidimensional arrays \n",
    " *arrays represent a powerfull way to organize and process data"
   ]
  },
  {
   "cell_type": "code",
   "execution_count": 2,
   "id": "f0cedd74",
   "metadata": {},
   "outputs": [],
   "source": [
    "import pandas"
   ]
  },
  {
   "cell_type": "markdown",
   "id": "f84ecc6a",
   "metadata": {},
   "source": [
    "allows us to organize data in a tabular form and to attach descriptive labels to the rows and the columns of the table.\n",
    "*Pandas(Panel Data) is suitable for working with time series and databases"
   ]
  },
  {
   "cell_type": "code",
   "execution_count": 3,
   "id": "32606333",
   "metadata": {},
   "outputs": [],
   "source": [
    "import matplotlib"
   ]
  },
  {
   "cell_type": "markdown",
   "id": "cc1cee80",
   "metadata": {},
   "source": [
    "a 2D plotting library specially designed for visualization of NumPy computations"
   ]
  },
  {
   "cell_type": "code",
   "execution_count": 5,
   "id": "d964621b",
   "metadata": {},
   "outputs": [],
   "source": [
    "import math"
   ]
  },
  {
   "cell_type": "markdown",
   "id": "c4d8118a",
   "metadata": {},
   "source": [
    "mathematical functions"
   ]
  },
  {
   "cell_type": "code",
   "execution_count": 6,
   "id": "adf4741e",
   "metadata": {},
   "outputs": [],
   "source": [
    "import random"
   ]
  },
  {
   "cell_type": "markdown",
   "id": "33b24e42",
   "metadata": {},
   "source": [
    "invokes, random number generators"
   ]
  },
  {
   "cell_type": "code",
   "execution_count": 8,
   "id": "b10cab03",
   "metadata": {},
   "outputs": [],
   "source": [
    "import statsmodels"
   ]
  },
  {
   "cell_type": "markdown",
   "id": "83161cd7",
   "metadata": {},
   "source": [
    "descriptive, statistics, plotting functions, regressions"
   ]
  },
  {
   "cell_type": "code",
   "execution_count": 1,
   "id": "4a3303b1",
   "metadata": {},
   "outputs": [],
   "source": [
    "import pandas_datareader"
   ]
  }
 ],
 "metadata": {
  "kernelspec": {
   "display_name": "Python 3 (ipykernel)",
   "language": "python",
   "name": "python3"
  },
  "language_info": {
   "codemirror_mode": {
    "name": "ipython",
    "version": 3
   },
   "file_extension": ".py",
   "mimetype": "text/x-python",
   "name": "python",
   "nbconvert_exporter": "python",
   "pygments_lexer": "ipython3",
   "version": "3.10.9"
  }
 },
 "nbformat": 4,
 "nbformat_minor": 5
}
