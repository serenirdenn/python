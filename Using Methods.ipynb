{
 "cells": [
  {
   "cell_type": "markdown",
   "id": "64602718",
   "metadata": {},
   "source": [
    "Append the number 100 to the Numbers list."
   ]
  },
  {
   "cell_type": "code",
   "execution_count": 2,
   "id": "d1e79f32",
   "metadata": {},
   "outputs": [
    {
     "name": "stdout",
     "output_type": "stream",
     "text": [
      "[15, 40, 50, 100]\n"
     ]
    }
   ],
   "source": [
    "Numbers = [15, 40, 50]\n",
    "Numbers.append(100)\n",
    "print(Numbers)"
   ]
  },
  {
   "cell_type": "markdown",
   "id": "0e902711",
   "metadata": {},
   "source": [
    "With the help of the \"extend method\", add the numbers 115 an 140 to the Numbers list."
   ]
  },
  {
   "cell_type": "code",
   "execution_count": 4,
   "id": "0250a4f3",
   "metadata": {},
   "outputs": [
    {
     "name": "stdout",
     "output_type": "stream",
     "text": [
      "[15, 40, 50, 100, 115, 140]\n"
     ]
    }
   ],
   "source": [
    "Numbers = [15, 40, 50, 100]\n",
    "Numbers.extend([115,140])\n",
    "print(Numbers)"
   ]
  },
  {
   "cell_type": "markdown",
   "id": "11e6f8ca",
   "metadata": {},
   "source": [
    "Print a statement, saying \"The fourth element of the Numbers list is\" and then designate the value of the fourth element of the Numbers list. Use a trailing comma."
   ]
  },
  {
   "cell_type": "code",
   "execution_count": 5,
   "id": "a16dad5b",
   "metadata": {},
   "outputs": [
    {
     "name": "stdout",
     "output_type": "stream",
     "text": [
      "The fourth element of the Numbers list is 100\n"
     ]
    }
   ],
   "source": [
    "Numbers = [15, 40, 50, 100, 115, 140]\n",
    "print(\"The fourth element of the Numbers list is\" , Numbers[3])"
   ]
  },
  {
   "cell_type": "markdown",
   "id": "a12235ea",
   "metadata": {},
   "source": [
    "Currently, how many elements are there in the Numbers list?"
   ]
  },
  {
   "cell_type": "code",
   "execution_count": 6,
   "id": "b2a1afaf",
   "metadata": {},
   "outputs": [
    {
     "data": {
      "text/plain": [
       "6"
      ]
     },
     "execution_count": 6,
     "metadata": {},
     "output_type": "execute_result"
    }
   ],
   "source": [
    "Numbers = [15, 40, 50, 100, 115, 140]\n",
    "len(Numbers)"
   ]
  }
 ],
 "metadata": {
  "kernelspec": {
   "display_name": "Python 3 (ipykernel)",
   "language": "python",
   "name": "python3"
  },
  "language_info": {
   "codemirror_mode": {
    "name": "ipython",
    "version": 3
   },
   "file_extension": ".py",
   "mimetype": "text/x-python",
   "name": "python",
   "nbconvert_exporter": "python",
   "pygments_lexer": "ipython3",
   "version": "3.10.9"
  }
 },
 "nbformat": 4,
 "nbformat_minor": 5
}
