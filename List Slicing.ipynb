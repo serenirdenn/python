{
 "cells": [
  {
   "cell_type": "markdown",
   "id": "42635835",
   "metadata": {},
   "source": [
    "Using list slicing, obtain the numbers 100 and 115."
   ]
  },
  {
   "cell_type": "code",
   "execution_count": 1,
   "id": "94ed25c2",
   "metadata": {},
   "outputs": [
    {
     "data": {
      "text/plain": [
       "[100, 115]"
      ]
     },
     "execution_count": 1,
     "metadata": {},
     "output_type": "execute_result"
    }
   ],
   "source": [
    "Numbers = [15, 40, 50, 100, 115, 140]\n",
    "Numbers[3:5]"
   ]
  },
  {
   "cell_type": "markdown",
   "id": "337f8f18",
   "metadata": {},
   "source": [
    "Using slicing, extract the first four elements from the list."
   ]
  },
  {
   "cell_type": "code",
   "execution_count": 2,
   "id": "6c654888",
   "metadata": {},
   "outputs": [
    {
     "data": {
      "text/plain": [
       "[15, 40, 50, 100]"
      ]
     },
     "execution_count": 2,
     "metadata": {},
     "output_type": "execute_result"
    }
   ],
   "source": [
    "Numbers = [15, 40, 50, 100, 115, 140]\n",
    "Numbers[:4]"
   ]
  },
  {
   "cell_type": "markdown",
   "id": "51189fbc",
   "metadata": {},
   "source": [
    "Using slicing, extract all the elements from the list from the 3rd position onwards."
   ]
  },
  {
   "cell_type": "code",
   "execution_count": 3,
   "id": "64a2c2d1",
   "metadata": {},
   "outputs": [
    {
     "data": {
      "text/plain": [
       "[100, 115, 140]"
      ]
     },
     "execution_count": 3,
     "metadata": {},
     "output_type": "execute_result"
    }
   ],
   "source": [
    "Numbers = [15, 40, 50, 100, 115, 140]\n",
    "Numbers[3:]"
   ]
  },
  {
   "cell_type": "markdown",
   "id": "dd725228",
   "metadata": {},
   "source": [
    "Using slicing, extract the last 4 elements from the list."
   ]
  },
  {
   "cell_type": "code",
   "execution_count": 4,
   "id": "810c9969",
   "metadata": {},
   "outputs": [
    {
     "data": {
      "text/plain": [
       "[50, 100, 115, 140]"
      ]
     },
     "execution_count": 4,
     "metadata": {},
     "output_type": "execute_result"
    }
   ],
   "source": [
    "Numbers = [15, 40, 50, 100, 115, 140]\n",
    "Numbers[-4:]"
   ]
  },
  {
   "cell_type": "markdown",
   "id": "edb093a0",
   "metadata": {},
   "source": [
    "Which is the position of the value 15?"
   ]
  },
  {
   "cell_type": "code",
   "execution_count": 5,
   "id": "5be681b8",
   "metadata": {},
   "outputs": [
    {
     "data": {
      "text/plain": [
       "0"
      ]
     },
     "execution_count": 5,
     "metadata": {},
     "output_type": "execute_result"
    }
   ],
   "source": [
    "Numbers = [15, 40, 50, 100, 115, 140]\n",
    "Numbers.index(15)"
   ]
  },
  {
   "cell_type": "markdown",
   "id": "a5fa2270",
   "metadata": {},
   "source": [
    "Create a list, called Two_Numbers. Let its elements be the values 1 and 2. Then, create a new one, named All_Numbers, that will contain both the Two_Numbers and the Numbers lists in the given order."
   ]
  },
  {
   "cell_type": "code",
   "execution_count": 7,
   "id": "5163428a",
   "metadata": {},
   "outputs": [
    {
     "name": "stdout",
     "output_type": "stream",
     "text": [
      "[[1, 2], [15, 40, 50, 100, 115, 140]]\n"
     ]
    }
   ],
   "source": [
    "Numbers = [15, 40, 50, 100, 115, 140]\n",
    "Two_Numbers=[1,2]\n",
    "All_Numbers=[Two_Numbers,Numbers]\n",
    "print(All_Numbers)"
   ]
  },
  {
   "cell_type": "markdown",
   "id": "836a9565",
   "metadata": {},
   "source": [
    "Sort all the numbers in the Numbers list from the largest to the smallest."
   ]
  },
  {
   "cell_type": "code",
   "execution_count": 8,
   "id": "42761594",
   "metadata": {
    "scrolled": true
   },
   "outputs": [
    {
     "data": {
      "text/plain": [
       "[140, 115, 100, 50, 40, 15]"
      ]
     },
     "execution_count": 8,
     "metadata": {},
     "output_type": "execute_result"
    }
   ],
   "source": [
    "Numbers = [15, 40, 50, 100, 115, 140]\n",
    "Numbers.sort(reverse=True)\n",
    "Numbers"
   ]
  }
 ],
 "metadata": {
  "kernelspec": {
   "display_name": "Python 3 (ipykernel)",
   "language": "python",
   "name": "python3"
  },
  "language_info": {
   "codemirror_mode": {
    "name": "ipython",
    "version": 3
   },
   "file_extension": ".py",
   "mimetype": "text/x-python",
   "name": "python",
   "nbconvert_exporter": "python",
   "pygments_lexer": "ipython3",
   "version": "3.10.9"
  }
 },
 "nbformat": 4,
 "nbformat_minor": 5
}
