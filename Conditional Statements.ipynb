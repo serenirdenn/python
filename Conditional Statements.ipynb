{
 "cells": [
  {
   "cell_type": "markdown",
   "id": "e352cff9",
   "metadata": {},
   "source": [
    "Create the following piece of code: If x > 200, print out \"Big\"; If x > 100 and x <= 200, print out \"Average\"; and If x <= 100, print out \"Small\". Use the if, elif, and else keywords in your code.\n",
    "\n"
   ]
  },
  {
   "cell_type": "code",
   "execution_count": 2,
   "id": "af9d106c",
   "metadata": {
    "scrolled": true
   },
   "outputs": [
    {
     "name": "stdout",
     "output_type": "stream",
     "text": [
      "Average\n"
     ]
    }
   ],
   "source": [
    "if x > 200: \n",
    "    print (\"Big\")\n",
    "elif x > 100 and x <= 200:\n",
    "    print (\"Average\")\n",
    "else:\n",
    "    print (\"Small\") "
   ]
  },
  {
   "cell_type": "markdown",
   "id": "aec22412",
   "metadata": {},
   "source": [
    "Keep the first two conditions of the code from the previous exercise (if x > 200, print out \"Big\"; If x > 100 and x <= 200, print out \"Average\").\n",
    "\n",
    "Add a new elif statement, so that, eventually, the program prints \"Small\" if x >= 0 and x <= 100, and \"Negative\" if x < 0."
   ]
  },
  {
   "cell_type": "code",
   "execution_count": 4,
   "id": "abdfc082",
   "metadata": {},
   "outputs": [
    {
     "name": "stdout",
     "output_type": "stream",
     "text": [
      "Average\n"
     ]
    }
   ],
   "source": [
    "x = 200\n",
    "\n",
    "if x > 200: \n",
    "    print (\"Big\")\n",
    "elif x > 100 and x <= 200:\n",
    "    print (\"Average\")\n",
    "    \n",
    "elif x>=0 and x<=100:\n",
    "    print(\"Small\")\n",
    "elif x<0:\n",
    "    print(\"Negative\")"
   ]
  }
 ],
 "metadata": {
  "kernelspec": {
   "display_name": "Python 3 (ipykernel)",
   "language": "python",
   "name": "python3"
  },
  "language_info": {
   "codemirror_mode": {
    "name": "ipython",
    "version": 3
   },
   "file_extension": ".py",
   "mimetype": "text/x-python",
   "name": "python",
   "nbconvert_exporter": "python",
   "pygments_lexer": "ipython3",
   "version": "3.10.9"
  }
 },
 "nbformat": 4,
 "nbformat_minor": 5
}
