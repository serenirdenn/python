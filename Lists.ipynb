{
 "cells": [
  {
   "cell_type": "markdown",
   "id": "537ae70a",
   "metadata": {},
   "source": [
    "Create a list, called Numbers. Let it contain the numbers 10, 25, 40, and 50.\n",
    "\n",
    "Print the element at index 2 from the list."
   ]
  },
  {
   "cell_type": "code",
   "execution_count": 2,
   "id": "27a632eb",
   "metadata": {},
   "outputs": [
    {
     "name": "stdout",
     "output_type": "stream",
     "text": [
      "40\n"
     ]
    }
   ],
   "source": [
    "Numbers=[10,25,40,50]\n",
    "print(Numbers[2])"
   ]
  },
  {
   "cell_type": "markdown",
   "id": "0b1bcf09",
   "metadata": {},
   "source": [
    "Print the third-to-last element from the Numbers list using a minus sign in the brackets."
   ]
  },
  {
   "cell_type": "code",
   "execution_count": 3,
   "id": "38e9d7ef",
   "metadata": {},
   "outputs": [
    {
     "name": "stdout",
     "output_type": "stream",
     "text": [
      "25\n"
     ]
    }
   ],
   "source": [
    "Numbers = [10, 25, 40, 50]\n",
    "print(Numbers[-3])"
   ]
  },
  {
   "cell_type": "markdown",
   "id": "bc0f2c8b",
   "metadata": {},
   "source": [
    "Delete the number 25 from the Numbers list."
   ]
  },
  {
   "cell_type": "code",
   "execution_count": 5,
   "id": "70ba9a36",
   "metadata": {},
   "outputs": [
    {
     "name": "stdout",
     "output_type": "stream",
     "text": [
      "[10, 40, 50]\n"
     ]
    }
   ],
   "source": [
    "Numbers = [10, 25, 40, 50]\n",
    "del(Numbers[1])\n",
    "print(Numbers)"
   ]
  }
 ],
 "metadata": {
  "kernelspec": {
   "display_name": "Python 3 (ipykernel)",
   "language": "python",
   "name": "python3"
  },
  "language_info": {
   "codemirror_mode": {
    "name": "ipython",
    "version": 3
   },
   "file_extension": ".py",
   "mimetype": "text/x-python",
   "name": "python",
   "nbconvert_exporter": "python",
   "pygments_lexer": "ipython3",
   "version": "3.10.9"
  }
 },
 "nbformat": 4,
 "nbformat_minor": 5
}
