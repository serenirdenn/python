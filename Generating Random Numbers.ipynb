{
 "cells": [
  {
   "cell_type": "code",
   "execution_count": 1,
   "id": "ab3a9164",
   "metadata": {},
   "outputs": [],
   "source": [
    "import random"
   ]
  },
  {
   "cell_type": "code",
   "execution_count": 2,
   "id": "01443c73",
   "metadata": {},
   "outputs": [
    {
     "data": {
      "text/plain": [
       "0.33680261706827674"
      ]
     },
     "execution_count": 2,
     "metadata": {},
     "output_type": "execute_result"
    }
   ],
   "source": [
    "prob = random.random()\n",
    "prob"
   ]
  },
  {
   "cell_type": "markdown",
   "id": "e1f916bb",
   "metadata": {},
   "source": [
    "random.random()  generates a random float in the range [0;1)"
   ]
  },
  {
   "cell_type": "code",
   "execution_count": 3,
   "id": "8a28c441",
   "metadata": {},
   "outputs": [
    {
     "data": {
      "text/plain": [
       "2"
      ]
     },
     "execution_count": 3,
     "metadata": {},
     "output_type": "execute_result"
    }
   ],
   "source": [
    "number = random.randint(1,6)\n",
    "number"
   ]
  },
  {
   "cell_type": "markdown",
   "id": "69037fd6",
   "metadata": {},
   "source": [
    "random.randint() randomized over a provided interval and delivers an integer value "
   ]
  },
  {
   "cell_type": "code",
   "execution_count": 4,
   "id": "b82273dc",
   "metadata": {},
   "outputs": [],
   "source": [
    "import numpy as np"
   ]
  },
  {
   "cell_type": "code",
   "execution_count": 6,
   "id": "79b8be45",
   "metadata": {},
   "outputs": [
    {
     "data": {
      "text/plain": [
       "array([[1, 4, 4, 4, 5, 4],\n",
       "       [3, 3, 3, 5, 2, 5],\n",
       "       [5, 3, 3, 1, 2, 2],\n",
       "       [2, 1, 1, 2, 4, 4]])"
      ]
     },
     "execution_count": 6,
     "metadata": {},
     "output_type": "execute_result"
    }
   ],
   "source": [
    "np.random.randint(1,6,(4,6))"
   ]
  },
  {
   "cell_type": "code",
   "execution_count": null,
   "id": "a0852d99",
   "metadata": {},
   "outputs": [],
   "source": []
  },
  {
   "cell_type": "code",
   "execution_count": null,
   "id": "cfa9e9d6",
   "metadata": {},
   "outputs": [],
   "source": []
  }
 ],
 "metadata": {
  "kernelspec": {
   "display_name": "Python 3 (ipykernel)",
   "language": "python",
   "name": "python3"
  },
  "language_info": {
   "codemirror_mode": {
    "name": "ipython",
    "version": 3
   },
   "file_extension": ".py",
   "mimetype": "text/x-python",
   "name": "python",
   "nbconvert_exporter": "python",
   "pygments_lexer": "ipython3",
   "version": "3.10.9"
  }
 },
 "nbformat": 4,
 "nbformat_minor": 5
}
